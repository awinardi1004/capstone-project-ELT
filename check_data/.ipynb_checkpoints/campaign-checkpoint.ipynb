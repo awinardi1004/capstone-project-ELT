{
 "cells": [
  {
   "cell_type": "code",
   "execution_count": 2,
   "id": "50309031-1e42-49d8-8559-b54cc67d8520",
   "metadata": {},
   "outputs": [],
   "source": [
    "import pandas as pd"
   ]
  },
  {
   "cell_type": "markdown",
   "id": "9a2b5630-1f5b-4d8b-a41b-9a27e677d68a",
   "metadata": {},
   "source": [
    "### Customers"
   ]
  },
  {
   "cell_type": "code",
   "execution_count": 3,
   "id": "c86f8bbc-06b4-44a1-af89-f082b97479a8",
   "metadata": {},
   "outputs": [
    {
     "data": {
      "text/html": [
       "<div>\n",
       "<style scoped>\n",
       "    .dataframe tbody tr th:only-of-type {\n",
       "        vertical-align: middle;\n",
       "    }\n",
       "\n",
       "    .dataframe tbody tr th {\n",
       "        vertical-align: top;\n",
       "    }\n",
       "\n",
       "    .dataframe thead th {\n",
       "        text-align: right;\n",
       "    }\n",
       "</style>\n",
       "<table border=\"1\" class=\"dataframe\">\n",
       "  <thead>\n",
       "    <tr style=\"text-align: right;\">\n",
       "      <th></th>\n",
       "      <th>CustomerID</th>\n",
       "      <th>Gender</th>\n",
       "      <th>Location</th>\n",
       "      <th>Tenure_Months</th>\n",
       "    </tr>\n",
       "  </thead>\n",
       "  <tbody>\n",
       "    <tr>\n",
       "      <th>0</th>\n",
       "      <td>17850</td>\n",
       "      <td>M</td>\n",
       "      <td>Chicago</td>\n",
       "      <td>12</td>\n",
       "    </tr>\n",
       "    <tr>\n",
       "      <th>1</th>\n",
       "      <td>13047</td>\n",
       "      <td>M</td>\n",
       "      <td>California</td>\n",
       "      <td>43</td>\n",
       "    </tr>\n",
       "    <tr>\n",
       "      <th>2</th>\n",
       "      <td>12583</td>\n",
       "      <td>M</td>\n",
       "      <td>Chicago</td>\n",
       "      <td>33</td>\n",
       "    </tr>\n",
       "    <tr>\n",
       "      <th>3</th>\n",
       "      <td>13748</td>\n",
       "      <td>F</td>\n",
       "      <td>California</td>\n",
       "      <td>30</td>\n",
       "    </tr>\n",
       "    <tr>\n",
       "      <th>4</th>\n",
       "      <td>15100</td>\n",
       "      <td>M</td>\n",
       "      <td>California</td>\n",
       "      <td>49</td>\n",
       "    </tr>\n",
       "  </tbody>\n",
       "</table>\n",
       "</div>"
      ],
      "text/plain": [
       "   CustomerID Gender    Location  Tenure_Months\n",
       "0       17850      M     Chicago             12\n",
       "1       13047      M  California             43\n",
       "2       12583      M     Chicago             33\n",
       "3       13748      F  California             30\n",
       "4       15100      M  California             49"
      ]
     },
     "execution_count": 3,
     "metadata": {},
     "output_type": "execute_result"
    }
   ],
   "source": [
    "customers =  pd.read_excel('CustomersData.xlsx')\n",
    "customers.head()"
   ]
  },
  {
   "cell_type": "markdown",
   "id": "1f9e757b-aea2-4624-a16f-a07fa59be0ce",
   "metadata": {},
   "source": [
    "Mencari kolom yang unique"
   ]
  },
  {
   "cell_type": "code",
   "execution_count": 4,
   "id": "a409dcc8-fbc3-43da-be8f-14cb74806c30",
   "metadata": {},
   "outputs": [],
   "source": [
    "customers.to_csv('data.csv', index=False)\n"
   ]
  },
  {
   "cell_type": "code",
   "execution_count": 22,
   "id": "12d4b397-65b3-4003-8931-5160a861bde8",
   "metadata": {},
   "outputs": [
    {
     "name": "stdout",
     "output_type": "stream",
     "text": [
      "['CustomerID']\n"
     ]
    }
   ],
   "source": [
    "c_row_count = customers.shape[0]\n",
    "c_unique_counts = customers.nunique()\n",
    "c_unique_columns = c_unique_counts[c_unique_counts == c_row_count].index.tolist()\n",
    "print(c_unique_columns)"
   ]
  },
  {
   "cell_type": "markdown",
   "id": "caf8e8fa-6a30-4ca8-b1a7-61f2c5f8cb96",
   "metadata": {},
   "source": [
    "### discount"
   ]
  },
  {
   "cell_type": "code",
   "execution_count": 12,
   "id": "257d6511-75cf-4c0e-b4d0-b461a201198d",
   "metadata": {},
   "outputs": [
    {
     "data": {
      "text/html": [
       "<div>\n",
       "<style scoped>\n",
       "    .dataframe tbody tr th:only-of-type {\n",
       "        vertical-align: middle;\n",
       "    }\n",
       "\n",
       "    .dataframe tbody tr th {\n",
       "        vertical-align: top;\n",
       "    }\n",
       "\n",
       "    .dataframe thead th {\n",
       "        text-align: right;\n",
       "    }\n",
       "</style>\n",
       "<table border=\"1\" class=\"dataframe\">\n",
       "  <thead>\n",
       "    <tr style=\"text-align: right;\">\n",
       "      <th></th>\n",
       "      <th>Month</th>\n",
       "      <th>Product_Category</th>\n",
       "      <th>Coupon_Code</th>\n",
       "      <th>Discount_pct</th>\n",
       "    </tr>\n",
       "  </thead>\n",
       "  <tbody>\n",
       "    <tr>\n",
       "      <th>0</th>\n",
       "      <td>Jan</td>\n",
       "      <td>Apparel</td>\n",
       "      <td>SALE10</td>\n",
       "      <td>10</td>\n",
       "    </tr>\n",
       "    <tr>\n",
       "      <th>1</th>\n",
       "      <td>Feb</td>\n",
       "      <td>Apparel</td>\n",
       "      <td>SALE20</td>\n",
       "      <td>20</td>\n",
       "    </tr>\n",
       "    <tr>\n",
       "      <th>2</th>\n",
       "      <td>Mar</td>\n",
       "      <td>Apparel</td>\n",
       "      <td>SALE30</td>\n",
       "      <td>30</td>\n",
       "    </tr>\n",
       "    <tr>\n",
       "      <th>3</th>\n",
       "      <td>Jan</td>\n",
       "      <td>Nest-USA</td>\n",
       "      <td>ELEC10</td>\n",
       "      <td>10</td>\n",
       "    </tr>\n",
       "    <tr>\n",
       "      <th>4</th>\n",
       "      <td>Feb</td>\n",
       "      <td>Nest-USA</td>\n",
       "      <td>ELEC20</td>\n",
       "      <td>20</td>\n",
       "    </tr>\n",
       "  </tbody>\n",
       "</table>\n",
       "</div>"
      ],
      "text/plain": [
       "  Month Product_Category Coupon_Code  Discount_pct\n",
       "0   Jan          Apparel      SALE10            10\n",
       "1   Feb          Apparel      SALE20            20\n",
       "2   Mar          Apparel      SALE30            30\n",
       "3   Jan         Nest-USA      ELEC10            10\n",
       "4   Feb         Nest-USA      ELEC20            20"
      ]
     },
     "execution_count": 12,
     "metadata": {},
     "output_type": "execute_result"
    }
   ],
   "source": [
    "discount = pd.read_csv('Discount_Coupon.csv')\n",
    "discount.head()"
   ]
  },
  {
   "cell_type": "markdown",
   "id": "081dd3be-caa8-46a2-9ace-50bf605178f8",
   "metadata": {},
   "source": [
    "mencari nilai kolom unique"
   ]
  },
  {
   "cell_type": "code",
   "execution_count": 23,
   "id": "70051015-5982-4eec-abbc-e222f42cd027",
   "metadata": {},
   "outputs": [
    {
     "name": "stdout",
     "output_type": "stream",
     "text": [
      "[]\n"
     ]
    }
   ],
   "source": [
    "d_row_count = discount.shape[0]\n",
    "d_unique_counts = discount.nunique()\n",
    "d_unique_columns = d_unique_counts[d_unique_counts == d_row_count].index.tolist()\n",
    "print(d_unique_columns)"
   ]
  },
  {
   "cell_type": "code",
   "execution_count": 28,
   "id": "e27c2684-920b-4a86-9378-928e1c99d619",
   "metadata": {},
   "outputs": [
    {
     "data": {
      "text/plain": [
       "204"
      ]
     },
     "execution_count": 28,
     "metadata": {},
     "output_type": "execute_result"
    }
   ],
   "source": [
    "d_row_count"
   ]
  },
  {
   "cell_type": "code",
   "execution_count": 27,
   "id": "7ffa1f51-874d-4afc-9502-ca133c5c9bd5",
   "metadata": {},
   "outputs": [
    {
     "name": "stdout",
     "output_type": "stream",
     "text": [
      "Kolom Month: ['Jan' 'Feb' 'Mar' 'Apr' 'May' 'Jun' 'Jul' 'Aug' 'Sep' 'Oct' 'Nov' 'Dec']\n",
      "Kolom Product_Category: ['Apparel' 'Nest-USA' 'Office' 'Drinkware' 'Lifestyle' 'Bags' 'Notebooks'\n",
      " 'Headgear' 'Nest' 'Waze' 'Bottles' 'Nest-Canada' 'Housewares'\n",
      " 'Accessories' 'Gift Cards' 'Notebooks & Journals' 'Android']\n",
      "Kolom Coupon_Code: ['SALE10' 'SALE20' 'SALE30' 'ELEC10' 'ELEC20' 'ELEC30' 'OFF10' 'OFF20'\n",
      " 'OFF30' 'EXTRA10' 'EXTRA20' 'EXTRA30' 'AIO10' 'AIO20' 'AIO30' 'NOTES10'\n",
      " 'NOTES20' 'NOTES30' 'HGEAR10' 'HGEAR20' 'HGEAR30' 'NE10' 'NE20' 'NE30'\n",
      " 'WEMP10' 'WEMP20' 'WEMP30' 'BT10' 'BT20' 'BT30' 'NCA10' 'NCA20' 'NCA30'\n",
      " 'HOU10' 'HOU20' 'HOU30' 'ACC10' 'ACC20' 'ACC30' 'GC10' 'GC20' 'GC30'\n",
      " 'NJ10' 'NJ20' 'NJ30' 'AND10' 'AND20' 'AND30']\n",
      "Kolom Discount_pct: [10 20 30]\n"
     ]
    }
   ],
   "source": [
    "unique_values = {col: discount[col].unique() for col in discount.columns}\n",
    "\n",
    "\n",
    "for col, values in unique_values.items():\n",
    "    print(f\"Kolom {col}: {values}\")"
   ]
  },
  {
   "cell_type": "code",
   "execution_count": 42,
   "id": "0bbea816-900d-4a54-8c31-db9d233a6bc0",
   "metadata": {},
   "outputs": [
    {
     "name": "stdout",
     "output_type": "stream",
     "text": [
      "['ELEC10']\n",
      "[10]\n"
     ]
    }
   ],
   "source": [
    "d_filtered = discount.loc[(discount['Month'] =='Jan') & (discount['Product_Category'] == 'Nest-USA')]\n",
    "print(d_filtered['Coupon_Code'].unique())\n",
    "print(d_filtered['Discount_pct'].unique())"
   ]
  },
  {
   "cell_type": "markdown",
   "id": "b8317243-d37b-4aa1-a6e2-29250f047f57",
   "metadata": {},
   "source": [
    "Note : primary key gabungan bulan dan product kategory"
   ]
  },
  {
   "cell_type": "markdown",
   "id": "9ed5d113-119c-4323-b6e2-929e23595afb",
   "metadata": {},
   "source": [
    "### marketing_spend"
   ]
  },
  {
   "cell_type": "code",
   "execution_count": 14,
   "id": "bac08a0b-5508-426b-b633-cfa1e0b2d31b",
   "metadata": {},
   "outputs": [
    {
     "data": {
      "text/html": [
       "<div>\n",
       "<style scoped>\n",
       "    .dataframe tbody tr th:only-of-type {\n",
       "        vertical-align: middle;\n",
       "    }\n",
       "\n",
       "    .dataframe tbody tr th {\n",
       "        vertical-align: top;\n",
       "    }\n",
       "\n",
       "    .dataframe thead th {\n",
       "        text-align: right;\n",
       "    }\n",
       "</style>\n",
       "<table border=\"1\" class=\"dataframe\">\n",
       "  <thead>\n",
       "    <tr style=\"text-align: right;\">\n",
       "      <th></th>\n",
       "      <th>Date</th>\n",
       "      <th>Offline_Spend</th>\n",
       "      <th>Online_Spend</th>\n",
       "    </tr>\n",
       "  </thead>\n",
       "  <tbody>\n",
       "    <tr>\n",
       "      <th>0</th>\n",
       "      <td>1/1/2019</td>\n",
       "      <td>4500</td>\n",
       "      <td>2424.50</td>\n",
       "    </tr>\n",
       "    <tr>\n",
       "      <th>1</th>\n",
       "      <td>1/2/2019</td>\n",
       "      <td>4500</td>\n",
       "      <td>3480.36</td>\n",
       "    </tr>\n",
       "    <tr>\n",
       "      <th>2</th>\n",
       "      <td>1/3/2019</td>\n",
       "      <td>4500</td>\n",
       "      <td>1576.38</td>\n",
       "    </tr>\n",
       "    <tr>\n",
       "      <th>3</th>\n",
       "      <td>1/4/2019</td>\n",
       "      <td>4500</td>\n",
       "      <td>2928.55</td>\n",
       "    </tr>\n",
       "    <tr>\n",
       "      <th>4</th>\n",
       "      <td>1/5/2019</td>\n",
       "      <td>4500</td>\n",
       "      <td>4055.30</td>\n",
       "    </tr>\n",
       "  </tbody>\n",
       "</table>\n",
       "</div>"
      ],
      "text/plain": [
       "       Date  Offline_Spend  Online_Spend\n",
       "0  1/1/2019           4500       2424.50\n",
       "1  1/2/2019           4500       3480.36\n",
       "2  1/3/2019           4500       1576.38\n",
       "3  1/4/2019           4500       2928.55\n",
       "4  1/5/2019           4500       4055.30"
      ]
     },
     "execution_count": 14,
     "metadata": {},
     "output_type": "execute_result"
    }
   ],
   "source": [
    "marketing_spend = pd.read_csv('Marketing_Spend.csv')\n",
    "marketing_spend.head()"
   ]
  },
  {
   "cell_type": "markdown",
   "id": "b9beef7c-56c4-4c7b-a904-a53a027e9c8a",
   "metadata": {},
   "source": [
    "mencari kolom unique"
   ]
  },
  {
   "cell_type": "code",
   "execution_count": 24,
   "id": "eb3bb960-34c7-47fa-98fb-aa6da2684f7c",
   "metadata": {},
   "outputs": [
    {
     "name": "stdout",
     "output_type": "stream",
     "text": [
      "['Date', 'Online_Spend']\n"
     ]
    }
   ],
   "source": [
    "ms_row_count = marketing_spend.shape[0]\n",
    "ms_unique_counts = marketing_spend.nunique()\n",
    "ms_unique_columns = ms_unique_counts[ms_unique_counts == ms_row_count].index.tolist()\n",
    "print(ms_unique_columns)"
   ]
  },
  {
   "cell_type": "markdown",
   "id": "1e606347-7112-4b11-8738-41c8b8c34784",
   "metadata": {},
   "source": [
    "### Online_sales"
   ]
  },
  {
   "cell_type": "code",
   "execution_count": 15,
   "id": "e730ddee-df43-4c5d-b27f-cfe65a6595be",
   "metadata": {},
   "outputs": [
    {
     "data": {
      "text/html": [
       "<div>\n",
       "<style scoped>\n",
       "    .dataframe tbody tr th:only-of-type {\n",
       "        vertical-align: middle;\n",
       "    }\n",
       "\n",
       "    .dataframe tbody tr th {\n",
       "        vertical-align: top;\n",
       "    }\n",
       "\n",
       "    .dataframe thead th {\n",
       "        text-align: right;\n",
       "    }\n",
       "</style>\n",
       "<table border=\"1\" class=\"dataframe\">\n",
       "  <thead>\n",
       "    <tr style=\"text-align: right;\">\n",
       "      <th></th>\n",
       "      <th>CustomerID</th>\n",
       "      <th>Transaction_ID</th>\n",
       "      <th>Transaction_Date</th>\n",
       "      <th>Product_SKU</th>\n",
       "      <th>Product_Description</th>\n",
       "      <th>Product_Category</th>\n",
       "      <th>Quantity</th>\n",
       "      <th>Avg_Price</th>\n",
       "      <th>Delivery_Charges</th>\n",
       "      <th>Coupon_Status</th>\n",
       "    </tr>\n",
       "  </thead>\n",
       "  <tbody>\n",
       "    <tr>\n",
       "      <th>0</th>\n",
       "      <td>17850</td>\n",
       "      <td>16679</td>\n",
       "      <td>1/1/2019</td>\n",
       "      <td>GGOENEBJ079499</td>\n",
       "      <td>Nest Learning Thermostat 3rd Gen-USA - Stainle...</td>\n",
       "      <td>Nest-USA</td>\n",
       "      <td>1</td>\n",
       "      <td>153.71</td>\n",
       "      <td>6.5</td>\n",
       "      <td>Used</td>\n",
       "    </tr>\n",
       "    <tr>\n",
       "      <th>1</th>\n",
       "      <td>17850</td>\n",
       "      <td>16680</td>\n",
       "      <td>1/1/2019</td>\n",
       "      <td>GGOENEBJ079499</td>\n",
       "      <td>Nest Learning Thermostat 3rd Gen-USA - Stainle...</td>\n",
       "      <td>Nest-USA</td>\n",
       "      <td>1</td>\n",
       "      <td>153.71</td>\n",
       "      <td>6.5</td>\n",
       "      <td>Used</td>\n",
       "    </tr>\n",
       "    <tr>\n",
       "      <th>2</th>\n",
       "      <td>17850</td>\n",
       "      <td>16681</td>\n",
       "      <td>1/1/2019</td>\n",
       "      <td>GGOEGFKQ020399</td>\n",
       "      <td>Google Laptop and Cell Phone Stickers</td>\n",
       "      <td>Office</td>\n",
       "      <td>1</td>\n",
       "      <td>2.05</td>\n",
       "      <td>6.5</td>\n",
       "      <td>Used</td>\n",
       "    </tr>\n",
       "    <tr>\n",
       "      <th>3</th>\n",
       "      <td>17850</td>\n",
       "      <td>16682</td>\n",
       "      <td>1/1/2019</td>\n",
       "      <td>GGOEGAAB010516</td>\n",
       "      <td>Google Men's 100% Cotton Short Sleeve Hero Tee...</td>\n",
       "      <td>Apparel</td>\n",
       "      <td>5</td>\n",
       "      <td>17.53</td>\n",
       "      <td>6.5</td>\n",
       "      <td>Not Used</td>\n",
       "    </tr>\n",
       "    <tr>\n",
       "      <th>4</th>\n",
       "      <td>17850</td>\n",
       "      <td>16682</td>\n",
       "      <td>1/1/2019</td>\n",
       "      <td>GGOEGBJL013999</td>\n",
       "      <td>Google Canvas Tote Natural/Navy</td>\n",
       "      <td>Bags</td>\n",
       "      <td>1</td>\n",
       "      <td>16.50</td>\n",
       "      <td>6.5</td>\n",
       "      <td>Used</td>\n",
       "    </tr>\n",
       "  </tbody>\n",
       "</table>\n",
       "</div>"
      ],
      "text/plain": [
       "   CustomerID  Transaction_ID Transaction_Date     Product_SKU  \\\n",
       "0       17850           16679         1/1/2019  GGOENEBJ079499   \n",
       "1       17850           16680         1/1/2019  GGOENEBJ079499   \n",
       "2       17850           16681         1/1/2019  GGOEGFKQ020399   \n",
       "3       17850           16682         1/1/2019  GGOEGAAB010516   \n",
       "4       17850           16682         1/1/2019  GGOEGBJL013999   \n",
       "\n",
       "                                 Product_Description Product_Category  \\\n",
       "0  Nest Learning Thermostat 3rd Gen-USA - Stainle...         Nest-USA   \n",
       "1  Nest Learning Thermostat 3rd Gen-USA - Stainle...         Nest-USA   \n",
       "2              Google Laptop and Cell Phone Stickers           Office   \n",
       "3  Google Men's 100% Cotton Short Sleeve Hero Tee...          Apparel   \n",
       "4                    Google Canvas Tote Natural/Navy             Bags   \n",
       "\n",
       "   Quantity  Avg_Price  Delivery_Charges Coupon_Status  \n",
       "0         1     153.71               6.5          Used  \n",
       "1         1     153.71               6.5          Used  \n",
       "2         1       2.05               6.5          Used  \n",
       "3         5      17.53               6.5      Not Used  \n",
       "4         1      16.50               6.5          Used  "
      ]
     },
     "execution_count": 15,
     "metadata": {},
     "output_type": "execute_result"
    }
   ],
   "source": [
    "online_sales = pd.read_csv('Online_Sales.csv')\n",
    "online_sales.head()"
   ]
  },
  {
   "cell_type": "markdown",
   "id": "91e56606-8bb2-47fb-bd7b-0e5ed75c38cc",
   "metadata": {},
   "source": [
    "mencari kolom unique"
   ]
  },
  {
   "cell_type": "code",
   "execution_count": 26,
   "id": "561c8247-81a5-42d6-bf7b-cc50705fc420",
   "metadata": {},
   "outputs": [
    {
     "name": "stdout",
     "output_type": "stream",
     "text": [
      "[]\n"
     ]
    }
   ],
   "source": [
    "os_row_count = online_sales.shape[0]\n",
    "os_unique_counts = online_sales.nunique()\n",
    "os_unique_columns = os_unique_counts[os_unique_counts == os_row_count].index.tolist()\n",
    "print(os_unique_columns)"
   ]
  }
 ],
 "metadata": {
  "kernelspec": {
   "display_name": "Python 3 (ipykernel)",
   "language": "python",
   "name": "python3"
  },
  "language_info": {
   "codemirror_mode": {
    "name": "ipython",
    "version": 3
   },
   "file_extension": ".py",
   "mimetype": "text/x-python",
   "name": "python",
   "nbconvert_exporter": "python",
   "pygments_lexer": "ipython3",
   "version": "3.11.5"
  }
 },
 "nbformat": 4,
 "nbformat_minor": 5
}
